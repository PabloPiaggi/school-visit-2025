{
 "cells": [
  {
   "cell_type": "markdown",
   "id": "fd67cbf5-35ef-4f6b-905b-6b5390d1599d",
   "metadata": {},
   "source": [
    "# Simulación "
   ]
  },
  {
   "cell_type": "code",
   "execution_count": 1,
   "id": "4b4a6adc",
   "metadata": {},
   "outputs": [],
   "source": [
    "# Load libraries\n",
    "import numpy as np\n",
    "import matplotlib.pyplot as plt\n",
    "import ase.io as aseio\n",
    "from ase.geometry.analysis import Analysis\n",
    "from ase.visualize import view"
   ]
  },
  {
   "cell_type": "code",
   "execution_count": 2,
   "id": "ad459408-ba08-4e0a-9d6a-0e5e8b7dda11",
   "metadata": {},
   "outputs": [],
   "source": [
    "# Read file\n",
    "filename = \"water.lammps-dump-text\"\n",
    "traj = aseio.read(filename,format='lammps-dump-text',index=\":\")\n",
    "view(traj[0],viewer='ngl')"
   ]
  },
  {
   "cell_type": "code",
   "execution_count": null,
   "id": "7b743ed7",
   "metadata": {},
   "outputs": [],
   "source": []
  },
  {
   "cell_type": "code",
   "execution_count": null,
   "id": "533c27b7",
   "metadata": {},
   "outputs": [],
   "source": []
  }
 ],
 "metadata": {
  "kernelspec": {
   "display_name": "Python 3 (ipykernel)",
   "language": "python",
   "name": "python3"
  },
  "language_info": {
   "codemirror_mode": {
    "name": "ipython",
    "version": 3
   },
   "file_extension": ".py",
   "mimetype": "text/x-python",
   "name": "python",
   "nbconvert_exporter": "python",
   "pygments_lexer": "ipython3",
   "version": "3.10.13"
  }
 },
 "nbformat": 4,
 "nbformat_minor": 5
}
