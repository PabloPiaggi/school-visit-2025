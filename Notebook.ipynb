{
 "cells": [
  {
   "cell_type": "markdown",
   "id": "fd67cbf5-35ef-4f6b-905b-6b5390d1599d",
   "metadata": {},
   "source": [
    "# Simulación molecular por ordenador"
   ]
  },
  {
   "cell_type": "code",
   "execution_count": 1,
   "id": "4b4a6adc",
   "metadata": {},
   "outputs": [],
   "source": [
    "# Load libraries\n",
    "import numpy as np\n",
    "import matplotlib.pyplot as plt\n",
    "import ase.io as aseio\n",
    "from ase.geometry.analysis import Analysis\n",
    "from ase.visualize import view"
   ]
  },
  {
   "cell_type": "markdown",
   "id": "513bf3b5-08b8-4adb-9d2b-414a864606ec",
   "metadata": {},
   "source": [
    "## La molécula de agua: un oxígeno y dos hydrógenos"
   ]
  },
  {
   "cell_type": "code",
   "execution_count": 2,
   "id": "829938cb-053f-4231-af2f-3d14a9ee18fa",
   "metadata": {},
   "outputs": [
    {
     "data": {
      "text/html": [
       "<html>\n",
       "    <head>\n",
       "        <title>ASE atomic visualization</title>\n",
       "        <link rel=\"stylesheet\" type=\"text/css\"             href=\"https://www.x3dom.org/release/x3dom.css\"></link>\n",
       "        <script type=\"text/javascript\"             src=\"https://www.x3dom.org/release/x3dom.js\"></script>\n",
       "    </head>\n",
       "    <body>\n",
       "        <X3D width=\"400px\"; height=\"300px\";>\n",
       "\n",
       "<!--Inserting Generated X3D Scene-->\n",
       "<scene>\n",
       "  <viewpoint position=\"0 0 40.0\">\n",
       "    <group/>\n",
       "  </viewpoint>\n",
       "  <transform translation=\"-10.0 -10.0 -10.0\">\n",
       "    <group>\n",
       "      <group>\n",
       "        <transform translation=\"0 0 0\">\n",
       "          <shape>\n",
       "            <appearance>\n",
       "              <material diffuseColor=\"0 0 0\"/>\n",
       "            </appearance>\n",
       "            <lineset vertexCount=\"5\">\n",
       "              <coordinate point=\"0 0 0 20.0 0.0 0.0 20.0 20.0 0.0 0.0 20.0 0.0 0 0 0\"/>\n",
       "            </lineset>\n",
       "          </shape>\n",
       "        </transform>\n",
       "        <transform translation=\"0.0 0.0 20.0\">\n",
       "          <shape>\n",
       "            <appearance>\n",
       "              <material diffuseColor=\"0 0 0\"/>\n",
       "            </appearance>\n",
       "            <lineset vertexCount=\"5\">\n",
       "              <coordinate point=\"0 0 0 20.0 0.0 0.0 20.0 20.0 0.0 0.0 20.0 0.0 0 0 0\"/>\n",
       "            </lineset>\n",
       "          </shape>\n",
       "        </transform>\n",
       "        <transform translation=\"0 0 0\">\n",
       "          <shape>\n",
       "            <appearance>\n",
       "              <material diffuseColor=\"0 0 0\"/>\n",
       "            </appearance>\n",
       "            <lineset vertexCount=\"5\">\n",
       "              <coordinate point=\"0 0 0 20.0 0.0 0.0 20.0 0.0 20.0 0.0 0.0 20.0 0 0 0\"/>\n",
       "            </lineset>\n",
       "          </shape>\n",
       "        </transform>\n",
       "        <transform translation=\"0.0 20.0 0.0\">\n",
       "          <shape>\n",
       "            <appearance>\n",
       "              <material diffuseColor=\"0 0 0\"/>\n",
       "            </appearance>\n",
       "            <lineset vertexCount=\"5\">\n",
       "              <coordinate point=\"0 0 0 20.0 0.0 0.0 20.0 0.0 20.0 0.0 0.0 20.0 0 0 0\"/>\n",
       "            </lineset>\n",
       "          </shape>\n",
       "        </transform>\n",
       "      </group>\n",
       "      <group>\n",
       "        <transform translation=\"10.0227019251 10.3163840187 9.9908962332\">\n",
       "          <shape>\n",
       "            <appearance>\n",
       "              <material diffuseColor=\"1.0 0.051 0.051\"/>\n",
       "            </appearance>\n",
       "            <sphere radius=\"0.66\"/>\n",
       "          </shape>\n",
       "        </transform>\n",
       "        <transform translation=\"10.7578922727 9.74012619 10.199722525\">\n",
       "          <shape>\n",
       "            <appearance>\n",
       "              <material diffuseColor=\"1.0 1.0 1.0\"/>\n",
       "            </appearance>\n",
       "            <sphere radius=\"0.31\"/>\n",
       "          </shape>\n",
       "        </transform>\n",
       "        <transform translation=\"9.2571219233 9.8690850683 10.3515049681\">\n",
       "          <shape>\n",
       "            <appearance>\n",
       "              <material diffuseColor=\"1.0 1.0 1.0\"/>\n",
       "            </appearance>\n",
       "            <sphere radius=\"0.31\"/>\n",
       "          </shape>\n",
       "        </transform>\n",
       "      </group>\n",
       "    </group>\n",
       "  </transform>\n",
       "</scene>\n",
       "<!--End of Inserted Scene-->\n",
       "\n",
       "        </X3D>\n",
       "    </body>\n",
       "</html>\n",
       "\n"
      ],
      "text/plain": [
       "<IPython.core.display.HTML object>"
      ]
     },
     "execution_count": 2,
     "metadata": {},
     "output_type": "execute_result"
    }
   ],
   "source": [
    "# Read file\n",
    "filename = \"molecule.lammps-data\"\n",
    "traj = aseio.read(filename,format='lammps-data')\n",
    "view(traj,viewer='x3d')"
   ]
  },
  {
   "cell_type": "markdown",
   "id": "b9a44f03-a021-4902-9d71-07357dc27e0f",
   "metadata": {},
   "source": [
    "¿Qué forma tiene la molécula de agua? ¿Por qué?"
   ]
  },
  {
   "cell_type": "markdown",
   "id": "d0a5db73-7400-4362-a86f-157ec0ee26a8",
   "metadata": {},
   "source": [
    "## La transformación de hielo en agua líquida"
   ]
  },
  {
   "cell_type": "code",
   "execution_count": 4,
   "id": "ad459408-ba08-4e0a-9d6a-0e5e8b7dda11",
   "metadata": {},
   "outputs": [],
   "source": [
    "# Read file\n",
    "filename = \"water.lammps-dump-text\"\n",
    "traj = aseio.read(filename,format='lammps-dump-text',index=\":\")\n",
    "view(traj,viewer='ngl')"
   ]
  },
  {
   "cell_type": "markdown",
   "id": "23925931-1575-498c-b4d7-be46df092c86",
   "metadata": {},
   "source": [
    "¿Qué diferencias tienen el hielo y el agua líquida? ¿Es fácil distinguirlos en la simulación? ¿Cómo occurre la transformación?"
   ]
  },
  {
   "cell_type": "code",
   "execution_count": null,
   "id": "533c27b7",
   "metadata": {},
   "outputs": [],
   "source": []
  }
 ],
 "metadata": {
  "kernelspec": {
   "display_name": "Python 3 (ipykernel)",
   "language": "python",
   "name": "python3"
  },
  "language_info": {
   "codemirror_mode": {
    "name": "ipython",
    "version": 3
   },
   "file_extension": ".py",
   "mimetype": "text/x-python",
   "name": "python",
   "nbconvert_exporter": "python",
   "pygments_lexer": "ipython3",
   "version": "3.10.13"
  }
 },
 "nbformat": 4,
 "nbformat_minor": 5
}
